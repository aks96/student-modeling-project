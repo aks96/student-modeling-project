{
 "cells": [
  {
   "cell_type": "code",
   "execution_count": 43,
   "metadata": {},
   "outputs": [],
   "source": [
    "import pandas as pd\n",
    "import matplotlib.pyplot as plt\n",
    "import numpy as np\n",
    "%matplotlib inline"
   ]
  },
  {
   "cell_type": "code",
   "execution_count": 3,
   "metadata": {},
   "outputs": [
    {
     "name": "stderr",
     "output_type": "stream",
     "text": [
      "/usr/local/lib/python3.6/site-packages/IPython/core/interactiveshell.py:2785: DtypeWarning: Columns (17) have mixed types. Specify dtype option on import or set low_memory=False.\n",
      "  interactivity=interactivity, compiler=compiler, result=result)\n"
     ]
    }
   ],
   "source": [
    "df = pd.read_csv('assistment_data_corrected.csv', encoding=\"ISO-8859-1\")"
   ]
  },
  {
   "cell_type": "code",
   "execution_count": 4,
   "metadata": {},
   "outputs": [
    {
     "name": "stdout",
     "output_type": "stream",
     "text": [
      "<class 'pandas.core.frame.DataFrame'>\n",
      "RangeIndex: 401756 entries, 0 to 401755\n",
      "Data columns (total 30 columns):\n",
      "order_id                401756 non-null int64\n",
      "assignment_id           401756 non-null int64\n",
      "user_id                 401756 non-null int64\n",
      "assistment_id           401756 non-null int64\n",
      "problem_id              401756 non-null int64\n",
      "original                401756 non-null int64\n",
      "correct                 401756 non-null int64\n",
      "attempt_count           401756 non-null int64\n",
      "ms_first_response       401756 non-null int64\n",
      "tutor_mode              401756 non-null object\n",
      "answer_type             401756 non-null object\n",
      "sequence_id             401756 non-null int64\n",
      "student_class_id        401756 non-null int64\n",
      "position                401756 non-null int64\n",
      "type                    401756 non-null object\n",
      "base_sequence_id        401756 non-null int64\n",
      "skill_id                338001 non-null float64\n",
      "skill_name              325637 non-null object\n",
      "teacher_id              401756 non-null int64\n",
      "school_id               401756 non-null int64\n",
      "hint_count              401756 non-null int64\n",
      "hint_total              401756 non-null int64\n",
      "overlap_time            401756 non-null int64\n",
      "template_id             401756 non-null int64\n",
      "answer_id               45454 non-null float64\n",
      "answer_text             312548 non-null object\n",
      "first_action            401756 non-null int64\n",
      "bottom_hint             67044 non-null float64\n",
      "opportunity             401756 non-null int64\n",
      "opportunity_original    328291 non-null float64\n",
      "dtypes: float64(4), int64(21), object(5)\n",
      "memory usage: 92.0+ MB\n"
     ]
    }
   ],
   "source": [
    "df.info()"
   ]
  },
  {
   "cell_type": "code",
   "execution_count": 55,
   "metadata": {},
   "outputs": [],
   "source": [
    "overlap_time = df['overlap_time']"
   ]
  },
  {
   "cell_type": "code",
   "execution_count": 40,
   "metadata": {},
   "outputs": [],
   "source": [
    "correct = df['correct']"
   ]
  },
  {
   "cell_type": "code",
   "execution_count": 44,
   "metadata": {},
   "outputs": [],
   "source": [
    "median_overlap = df['overlap_time'].median()"
   ]
  },
  {
   "cell_type": "code",
   "execution_count": 45,
   "metadata": {},
   "outputs": [
    {
     "data": {
      "text/plain": [
       "24264.5"
      ]
     },
     "execution_count": 45,
     "metadata": {},
     "output_type": "execute_result"
    }
   ],
   "source": [
    "median_overlap"
   ]
  },
  {
   "cell_type": "code",
   "execution_count": 56,
   "metadata": {},
   "outputs": [],
   "source": [
    "overlap = [0 if x < median_overlap else 1 for x in overlap_time]"
   ]
  },
  {
   "cell_type": "code",
   "execution_count": 57,
   "metadata": {},
   "outputs": [
    {
     "data": {
      "text/plain": [
       "array([0, 1])"
      ]
     },
     "execution_count": 57,
     "metadata": {},
     "output_type": "execute_result"
    }
   ],
   "source": [
    "np.unique(overlap)"
   ]
  },
  {
   "cell_type": "code",
   "execution_count": 62,
   "metadata": {},
   "outputs": [],
   "source": [
    "from scipy.stats import pointbiserialr\n",
    "from sklearn.metrics import matthews_corrcoef"
   ]
  },
  {
   "cell_type": "code",
   "execution_count": 63,
   "metadata": {},
   "outputs": [
    {
     "data": {
      "text/plain": [
       "-0.23279380539926584"
      ]
     },
     "execution_count": 63,
     "metadata": {},
     "output_type": "execute_result"
    }
   ],
   "source": [
    "matthews_corrcoef(overlap, correct)"
   ]
  },
  {
   "cell_type": "code",
   "execution_count": null,
   "metadata": {},
   "outputs": [],
   "source": []
  }
 ],
 "metadata": {
  "kernelspec": {
   "display_name": "Python 3",
   "language": "python",
   "name": "python3"
  },
  "language_info": {
   "codemirror_mode": {
    "name": "ipython",
    "version": 3
   },
   "file_extension": ".py",
   "mimetype": "text/x-python",
   "name": "python",
   "nbconvert_exporter": "python",
   "pygments_lexer": "ipython3",
   "version": "3.6.6"
  }
 },
 "nbformat": 4,
 "nbformat_minor": 2
}
