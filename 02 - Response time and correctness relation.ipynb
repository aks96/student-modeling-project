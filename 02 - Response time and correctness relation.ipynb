{
 "cells": [
  {
   "cell_type": "code",
   "execution_count": 1,
   "metadata": {},
   "outputs": [],
   "source": [
    "from sklearn.metrics import matthews_corrcoef\n",
    "from sklearn.linear_model import LogisticRegression\n",
    "from sklearn.model_selection import train_test_split\n",
    "import pandas as pd\n",
    "import numpy as np"
   ]
  },
  {
   "cell_type": "code",
   "execution_count": 2,
   "metadata": {},
   "outputs": [
    {
     "name": "stderr",
     "output_type": "stream",
     "text": [
      "/usr/local/lib/python3.7/site-packages/IPython/core/interactiveshell.py:3020: DtypeWarning: Columns (17) have mixed types. Specify dtype option on import or set low_memory=False.\n",
      "  interactivity=interactivity, compiler=compiler, result=result)\n"
     ]
    }
   ],
   "source": [
    "df = pd.read_csv('assistment_data_corrected.csv', encoding=\"ISO-8859-1\")"
   ]
  },
  {
   "cell_type": "code",
   "execution_count": 3,
   "metadata": {},
   "outputs": [
    {
     "name": "stdout",
     "output_type": "stream",
     "text": [
      "<class 'pandas.core.frame.DataFrame'>\n",
      "RangeIndex: 401756 entries, 0 to 401755\n",
      "Data columns (total 30 columns):\n",
      "order_id                401756 non-null int64\n",
      "assignment_id           401756 non-null int64\n",
      "user_id                 401756 non-null int64\n",
      "assistment_id           401756 non-null int64\n",
      "problem_id              401756 non-null int64\n",
      "original                401756 non-null int64\n",
      "correct                 401756 non-null int64\n",
      "attempt_count           401756 non-null int64\n",
      "ms_first_response       401756 non-null int64\n",
      "tutor_mode              401756 non-null object\n",
      "answer_type             401756 non-null object\n",
      "sequence_id             401756 non-null int64\n",
      "student_class_id        401756 non-null int64\n",
      "position                401756 non-null int64\n",
      "type                    401756 non-null object\n",
      "base_sequence_id        401756 non-null int64\n",
      "skill_id                338001 non-null float64\n",
      "skill_name              325637 non-null object\n",
      "teacher_id              401756 non-null int64\n",
      "school_id               401756 non-null int64\n",
      "hint_count              401756 non-null int64\n",
      "hint_total              401756 non-null int64\n",
      "overlap_time            401756 non-null int64\n",
      "template_id             401756 non-null int64\n",
      "answer_id               45454 non-null float64\n",
      "answer_text             312548 non-null object\n",
      "first_action            401756 non-null int64\n",
      "bottom_hint             67044 non-null float64\n",
      "opportunity             401756 non-null int64\n",
      "opportunity_original    328291 non-null float64\n",
      "dtypes: float64(4), int64(21), object(5)\n",
      "memory usage: 92.0+ MB\n"
     ]
    }
   ],
   "source": [
    "df.info()"
   ]
  },
  {
   "cell_type": "code",
   "execution_count": 8,
   "metadata": {},
   "outputs": [],
   "source": [
    "df = df[df['overlap_time'] > 0]\n",
    "df = df[df['ms_first_response'] > 0]"
   ]
  },
  {
   "cell_type": "code",
   "execution_count": 9,
   "metadata": {},
   "outputs": [
    {
     "name": "stdout",
     "output_type": "stream",
     "text": [
      "<class 'pandas.core.frame.DataFrame'>\n",
      "Int64Index: 401427 entries, 0 to 401755\n",
      "Data columns (total 30 columns):\n",
      "order_id                401427 non-null int64\n",
      "assignment_id           401427 non-null int64\n",
      "user_id                 401427 non-null int64\n",
      "assistment_id           401427 non-null int64\n",
      "problem_id              401427 non-null int64\n",
      "original                401427 non-null int64\n",
      "correct                 401427 non-null int64\n",
      "attempt_count           401427 non-null int64\n",
      "ms_first_response       401427 non-null int64\n",
      "tutor_mode              401427 non-null object\n",
      "answer_type             401427 non-null object\n",
      "sequence_id             401427 non-null int64\n",
      "student_class_id        401427 non-null int64\n",
      "position                401427 non-null int64\n",
      "type                    401427 non-null object\n",
      "base_sequence_id        401427 non-null int64\n",
      "skill_id                337674 non-null float64\n",
      "skill_name              325310 non-null object\n",
      "teacher_id              401427 non-null int64\n",
      "school_id               401427 non-null int64\n",
      "hint_count              401427 non-null int64\n",
      "hint_total              401427 non-null int64\n",
      "overlap_time            401427 non-null int64\n",
      "template_id             401427 non-null int64\n",
      "answer_id               45432 non-null float64\n",
      "answer_text             312244 non-null object\n",
      "first_action            401427 non-null int64\n",
      "bottom_hint             67022 non-null float64\n",
      "opportunity             401427 non-null int64\n",
      "opportunity_original    327964 non-null float64\n",
      "dtypes: float64(4), int64(21), object(5)\n",
      "memory usage: 94.9+ MB\n"
     ]
    }
   ],
   "source": [
    "df.info()"
   ]
  },
  {
   "cell_type": "code",
   "execution_count": 10,
   "metadata": {},
   "outputs": [],
   "source": [
    "overlap_time = np.array(df['ms_first_response'])\n",
    "correct = np.array(df['correct'])"
   ]
  },
  {
   "cell_type": "code",
   "execution_count": 11,
   "metadata": {},
   "outputs": [
    {
     "name": "stdout",
     "output_type": "stream",
     "text": [
      "1\n"
     ]
    }
   ],
   "source": [
    "print(np.min(overlap_time))"
   ]
  },
  {
   "cell_type": "markdown",
   "metadata": {},
   "source": [
    "## Use logistic regression accuracy as a measure"
   ]
  },
  {
   "cell_type": "code",
   "execution_count": 12,
   "metadata": {},
   "outputs": [
    {
     "name": "stderr",
     "output_type": "stream",
     "text": [
      "/usr/local/lib64/python3.7/site-packages/sklearn/model_selection/_split.py:2069: FutureWarning: From version 0.21, test_size will always complement train_size unless both are specified.\n",
      "  FutureWarning)\n"
     ]
    }
   ],
   "source": [
    "x_train, x_test, y_train, y_test = train_test_split(overlap_time, correct, train_size=0.7)"
   ]
  },
  {
   "cell_type": "code",
   "execution_count": 13,
   "metadata": {},
   "outputs": [
    {
     "name": "stderr",
     "output_type": "stream",
     "text": [
      "/usr/local/lib64/python3.7/site-packages/sklearn/linear_model/logistic.py:432: FutureWarning: Default solver will be changed to 'lbfgs' in 0.22. Specify a solver to silence this warning.\n",
      "  FutureWarning)\n"
     ]
    },
    {
     "data": {
      "text/plain": [
       "LogisticRegression(C=1.0, class_weight=None, dual=False, fit_intercept=True,\n",
       "          intercept_scaling=1, max_iter=100, multi_class='warn',\n",
       "          n_jobs=None, penalty='l2', random_state=None, solver='warn',\n",
       "          tol=0.0001, verbose=0, warm_start=False)"
      ]
     },
     "execution_count": 13,
     "metadata": {},
     "output_type": "execute_result"
    }
   ],
   "source": [
    "model = LogisticRegression()\n",
    "model.fit(x_train.reshape(len(x_train), 1), y_train)"
   ]
  },
  {
   "cell_type": "code",
   "execution_count": 14,
   "metadata": {},
   "outputs": [
    {
     "data": {
      "text/plain": [
       "array([[1.15611585e-06]])"
      ]
     },
     "execution_count": 14,
     "metadata": {},
     "output_type": "execute_result"
    }
   ],
   "source": [
    "model.coef_"
   ]
  },
  {
   "cell_type": "code",
   "execution_count": 15,
   "metadata": {},
   "outputs": [
    {
     "data": {
      "text/plain": [
       "0.6436489549859253"
      ]
     },
     "execution_count": 15,
     "metadata": {},
     "output_type": "execute_result"
    }
   ],
   "source": [
    "model.score(x_test.reshape(len(x_test), 1), y_test)"
   ]
  },
  {
   "cell_type": "markdown",
   "metadata": {},
   "source": [
    "So a 1-dimensional logistic regression model is able to get a 64% accuracy while predicting. Thus, there seems to be a pursuable relationship between these variables."
   ]
  },
  {
   "cell_type": "markdown",
   "metadata": {},
   "source": [
    "## Kolgomorov-Smirnov Test"
   ]
  },
  {
   "cell_type": "code",
   "execution_count": 16,
   "metadata": {},
   "outputs": [],
   "source": [
    "from matplotlib import pyplot as plt\n",
    "import seaborn as sns\n",
    "\n",
    "plt.style.use('ggplot')"
   ]
  },
  {
   "cell_type": "code",
   "execution_count": 17,
   "metadata": {},
   "outputs": [],
   "source": [
    "wrong_ans = df[df['correct'] == 0]\n",
    "correct_ans = df[df['correct'] == 1]"
   ]
  },
  {
   "cell_type": "code",
   "execution_count": 18,
   "metadata": {},
   "outputs": [
    {
     "data": {
      "text/html": [
       "<div>\n",
       "<style scoped>\n",
       "    .dataframe tbody tr th:only-of-type {\n",
       "        vertical-align: middle;\n",
       "    }\n",
       "\n",
       "    .dataframe tbody tr th {\n",
       "        vertical-align: top;\n",
       "    }\n",
       "\n",
       "    .dataframe thead th {\n",
       "        text-align: right;\n",
       "    }\n",
       "</style>\n",
       "<table border=\"1\" class=\"dataframe\">\n",
       "  <thead>\n",
       "    <tr style=\"text-align: right;\">\n",
       "      <th></th>\n",
       "      <th>order_id</th>\n",
       "      <th>assignment_id</th>\n",
       "      <th>user_id</th>\n",
       "      <th>assistment_id</th>\n",
       "      <th>problem_id</th>\n",
       "      <th>original</th>\n",
       "      <th>correct</th>\n",
       "      <th>attempt_count</th>\n",
       "      <th>ms_first_response</th>\n",
       "      <th>tutor_mode</th>\n",
       "      <th>...</th>\n",
       "      <th>hint_count</th>\n",
       "      <th>hint_total</th>\n",
       "      <th>overlap_time</th>\n",
       "      <th>template_id</th>\n",
       "      <th>answer_id</th>\n",
       "      <th>answer_text</th>\n",
       "      <th>first_action</th>\n",
       "      <th>bottom_hint</th>\n",
       "      <th>opportunity</th>\n",
       "      <th>opportunity_original</th>\n",
       "    </tr>\n",
       "  </thead>\n",
       "  <tbody>\n",
       "    <tr>\n",
       "      <th>2</th>\n",
       "      <td>35450204</td>\n",
       "      <td>220674</td>\n",
       "      <td>70363</td>\n",
       "      <td>33159</td>\n",
       "      <td>51444</td>\n",
       "      <td>1</td>\n",
       "      <td>0</td>\n",
       "      <td>2</td>\n",
       "      <td>25390</td>\n",
       "      <td>tutor</td>\n",
       "      <td>...</td>\n",
       "      <td>0</td>\n",
       "      <td>3</td>\n",
       "      <td>42000</td>\n",
       "      <td>30799</td>\n",
       "      <td>NaN</td>\n",
       "      <td>88</td>\n",
       "      <td>0</td>\n",
       "      <td>NaN</td>\n",
       "      <td>1</td>\n",
       "      <td>1.0</td>\n",
       "    </tr>\n",
       "    <tr>\n",
       "      <th>4</th>\n",
       "      <td>35450311</td>\n",
       "      <td>220674</td>\n",
       "      <td>70363</td>\n",
       "      <td>33196</td>\n",
       "      <td>51481</td>\n",
       "      <td>1</td>\n",
       "      <td>0</td>\n",
       "      <td>14</td>\n",
       "      <td>19813</td>\n",
       "      <td>tutor</td>\n",
       "      <td>...</td>\n",
       "      <td>3</td>\n",
       "      <td>4</td>\n",
       "      <td>124564</td>\n",
       "      <td>30060</td>\n",
       "      <td>NaN</td>\n",
       "      <td>65</td>\n",
       "      <td>0</td>\n",
       "      <td>0.0</td>\n",
       "      <td>3</td>\n",
       "      <td>3.0</td>\n",
       "    </tr>\n",
       "    <tr>\n",
       "      <th>18</th>\n",
       "      <td>33392795</td>\n",
       "      <td>277618</td>\n",
       "      <td>70729</td>\n",
       "      <td>33169</td>\n",
       "      <td>51454</td>\n",
       "      <td>1</td>\n",
       "      <td>0</td>\n",
       "      <td>2</td>\n",
       "      <td>12898</td>\n",
       "      <td>tutor</td>\n",
       "      <td>...</td>\n",
       "      <td>0</td>\n",
       "      <td>4</td>\n",
       "      <td>27650</td>\n",
       "      <td>30060</td>\n",
       "      <td>NaN</td>\n",
       "      <td>14</td>\n",
       "      <td>0</td>\n",
       "      <td>NaN</td>\n",
       "      <td>1</td>\n",
       "      <td>1.0</td>\n",
       "    </tr>\n",
       "    <tr>\n",
       "      <th>20</th>\n",
       "      <td>33392838</td>\n",
       "      <td>277618</td>\n",
       "      <td>70729</td>\n",
       "      <td>33140</td>\n",
       "      <td>51425</td>\n",
       "      <td>1</td>\n",
       "      <td>0</td>\n",
       "      <td>2</td>\n",
       "      <td>27857</td>\n",
       "      <td>tutor</td>\n",
       "      <td>...</td>\n",
       "      <td>3</td>\n",
       "      <td>3</td>\n",
       "      <td>39933</td>\n",
       "      <td>30799</td>\n",
       "      <td>NaN</td>\n",
       "      <td>16</td>\n",
       "      <td>0</td>\n",
       "      <td>1.0</td>\n",
       "      <td>3</td>\n",
       "      <td>3.0</td>\n",
       "    </tr>\n",
       "    <tr>\n",
       "      <th>23</th>\n",
       "      <td>20421232</td>\n",
       "      <td>220674</td>\n",
       "      <td>70730</td>\n",
       "      <td>33178</td>\n",
       "      <td>51463</td>\n",
       "      <td>1</td>\n",
       "      <td>0</td>\n",
       "      <td>2</td>\n",
       "      <td>154880</td>\n",
       "      <td>tutor</td>\n",
       "      <td>...</td>\n",
       "      <td>0</td>\n",
       "      <td>4</td>\n",
       "      <td>296134</td>\n",
       "      <td>30060</td>\n",
       "      <td>NaN</td>\n",
       "      <td>12</td>\n",
       "      <td>0</td>\n",
       "      <td>NaN</td>\n",
       "      <td>1</td>\n",
       "      <td>1.0</td>\n",
       "    </tr>\n",
       "  </tbody>\n",
       "</table>\n",
       "<p>5 rows × 30 columns</p>\n",
       "</div>"
      ],
      "text/plain": [
       "    order_id  assignment_id  user_id  assistment_id  problem_id  original  \\\n",
       "2   35450204         220674    70363          33159       51444         1   \n",
       "4   35450311         220674    70363          33196       51481         1   \n",
       "18  33392795         277618    70729          33169       51454         1   \n",
       "20  33392838         277618    70729          33140       51425         1   \n",
       "23  20421232         220674    70730          33178       51463         1   \n",
       "\n",
       "    correct  attempt_count  ms_first_response tutor_mode  \\\n",
       "2         0              2              25390      tutor   \n",
       "4         0             14              19813      tutor   \n",
       "18        0              2              12898      tutor   \n",
       "20        0              2              27857      tutor   \n",
       "23        0              2             154880      tutor   \n",
       "\n",
       "            ...          hint_count  hint_total  overlap_time  template_id  \\\n",
       "2           ...                   0           3         42000        30799   \n",
       "4           ...                   3           4        124564        30060   \n",
       "18          ...                   0           4         27650        30060   \n",
       "20          ...                   3           3         39933        30799   \n",
       "23          ...                   0           4        296134        30060   \n",
       "\n",
       "   answer_id  answer_text  first_action bottom_hint  opportunity  \\\n",
       "2        NaN           88             0         NaN            1   \n",
       "4        NaN           65             0         0.0            3   \n",
       "18       NaN           14             0         NaN            1   \n",
       "20       NaN           16             0         1.0            3   \n",
       "23       NaN           12             0         NaN            1   \n",
       "\n",
       "    opportunity_original  \n",
       "2                    1.0  \n",
       "4                    3.0  \n",
       "18                   1.0  \n",
       "20                   3.0  \n",
       "23                   1.0  \n",
       "\n",
       "[5 rows x 30 columns]"
      ]
     },
     "execution_count": 18,
     "metadata": {},
     "output_type": "execute_result"
    }
   ],
   "source": [
    "wrong_ans[:5]"
   ]
  },
  {
   "cell_type": "code",
   "execution_count": 19,
   "metadata": {},
   "outputs": [],
   "source": [
    "wrong_ms_response = np.array(wrong_ans['ms_first_response'])\n",
    "correct_ms_response = np.array(correct_ans['ms_first_response'])"
   ]
  },
  {
   "cell_type": "code",
   "execution_count": 20,
   "metadata": {},
   "outputs": [],
   "source": [
    "wrong_ms_response = np.where(wrong_ms_response > 0)[0]\n",
    "correct_ms_response = np.where(correct_ms_response > 0)[0]"
   ]
  },
  {
   "cell_type": "code",
   "execution_count": 21,
   "metadata": {},
   "outputs": [
    {
     "name": "stderr",
     "output_type": "stream",
     "text": [
      "/usr/local/lib64/python3.7/site-packages/scipy/stats/stats.py:1713: FutureWarning: Using a non-tuple sequence for multidimensional indexing is deprecated; use `arr[tuple(seq)]` instead of `arr[seq]`. In the future this will be interpreted as an array index, `arr[np.array(seq)]`, which will result either in an error or a different result.\n",
      "  return np.add.reduce(sorted[indexer] * weights, axis=axis) / sumval\n"
     ]
    },
    {
     "data": {
      "image/png": "[encoded data removed]",
      "text/plain": [
       "<Figure size 432x288 with 1 Axes>"
      ]
     },
     "metadata": {
      "needs_background": "light"
     },
     "output_type": "display_data"
    }
   ],
   "source": [
    "sns.distplot(correct_ms_response);\n",
    "sns.distplot(wrong_ms_response);"
   ]
  },
  {
   "cell_type": "code",
   "execution_count": 22,
   "metadata": {},
   "outputs": [
    {
     "data": {
      "text/plain": [
       "143322"
      ]
     },
     "execution_count": 22,
     "metadata": {},
     "output_type": "execute_result"
    }
   ],
   "source": [
    "len(wrong_ms_response)"
   ]
  },
  {
   "cell_type": "code",
   "execution_count": 23,
   "metadata": {},
   "outputs": [
    {
     "data": {
      "text/plain": [
       "258105"
      ]
     },
     "execution_count": 23,
     "metadata": {},
     "output_type": "execute_result"
    }
   ],
   "source": [
    "len(correct_ms_response)"
   ]
  },
  {
   "cell_type": "code",
   "execution_count": 24,
   "metadata": {},
   "outputs": [],
   "source": [
    "from scipy.stats import ks_2samp"
   ]
  },
  {
   "cell_type": "code",
   "execution_count": 25,
   "metadata": {},
   "outputs": [
    {
     "data": {
      "text/plain": [
       "Ks_2sampResult(statistic=0.4447143604347068, pvalue=0.0)"
      ]
     },
     "execution_count": 25,
     "metadata": {},
     "output_type": "execute_result"
    }
   ],
   "source": [
    "ks_2samp(wrong_ms_response, correct_ms_response)"
   ]
  },
  {
   "cell_type": "markdown",
   "metadata": {},
   "source": [
    "Since the p-value is small (< 0.0), we reject the hypothesis that the two distributions are the same. Thus, we infer that the two distributions are significantly different, and that `ms_first_response` plays a role in determining `correct`."
   ]
  },
  {
   "cell_type": "code",
   "execution_count": null,
   "metadata": {},
   "outputs": [],
   "source": []
  }
 ],
 "metadata": {
  "kernelspec": {
   "display_name": "Python 3",
   "language": "python",
   "name": "python3"
  },
  "language_info": {
   "codemirror_mode": {
    "name": "ipython",
    "version": 3
   },
   "file_extension": ".py",
   "mimetype": "text/x-python",
   "name": "python",
   "nbconvert_exporter": "python",
   "pygments_lexer": "ipython3",
   "version": "3.7.0"
  }
 },
 "nbformat": 4,
 "nbformat_minor": 2
}
